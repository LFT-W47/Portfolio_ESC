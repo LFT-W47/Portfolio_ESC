{
 "cells": [
  {
   "cell_type": "markdown",
   "id": "material-express",
   "metadata": {},
   "source": [
    "# How does ozone interact with UV radiation i.e. what is the physical-chemical reaction behind that interaction?\n",
    "\n",
    "## Please Answer one of the following Questions:\n",
    "1. Why are certain gases called “greenhouse gases” i.e. what are the physical mechanisms behind that?\n",
    "\n",
    "2. How does ozone interact with UV radiation i.e. what is the physical-chemical reaction behind that interaction?\n",
    "\n",
    "Page 1\n",
    "![greenhouse](ex2-001.jpg)\n",
    "\n",
    "Page 2\n",
    "![greenhouse](ex2-002.jpg)\n",
    "\n",
    "Page 3\n",
    "![greenhouse](ex2-003.jpg)\n",
    "\n",
    "Page 4\n",
    "![greenhouse](ex2-004.jpg)\n",
    "\n",
    "Page 5\n",
    "![greenhouse](ex2-005.jpg)\n",
    "\n",
    "Page 6\n",
    "![greenhouse](ex2-006.jpg)\n",
    "\n",
    "Page 7\n",
    "![greenhouse](ex2-007.jpg)"
   ]
  }
 ],
 "metadata": {
  "kernelspec": {
   "display_name": "ESC Final",
   "language": "python",
   "name": "fin"
  },
  "language_info": {
   "codemirror_mode": {
    "name": "ipython",
    "version": 3
   },
   "file_extension": ".py",
   "mimetype": "text/x-python",
   "name": "python",
   "nbconvert_exporter": "python",
   "pygments_lexer": "ipython3",
   "version": "3.9.16"
  }
 },
 "nbformat": 4,
 "nbformat_minor": 5
}
