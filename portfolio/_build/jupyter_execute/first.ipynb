{
 "cells": [
  {
   "cell_type": "markdown",
   "id": "appreciated-looking",
   "metadata": {},
   "source": [
    "# Question 1\n",
    "\n",
    "\n",
    "## How do these spheres interact?\n",
    "\n",
    "\n",
    "### What is the (fraction of) mass of each sphere, in which the main interactions in contemporaneous Earth system dynamics takes place?"
   ]
  },
  {
   "cell_type": "code",
   "execution_count": 1,
   "id": "interim-honey",
   "metadata": {},
   "outputs": [
    {
     "name": "stdout",
     "output_type": "stream",
     "text": [
      "Mass of Hydrosphere: 1.39e+21 kilograms\n",
      "Mass of Atmosphere: 5.14e+18 kilograms\n",
      "Mass of Biosphere: 2.00e+15 kilograms\n",
      "Mass of Lithosphere: 2.70e+22 kilograms\n",
      "\n",
      "Hydrosphere fraction: 4.8818043%\n",
      "Atmosphere fraction: 0.0181042%\n",
      "Biosphere fraction: 0.0000070%\n",
      "Lithosphere fraction: 95.1000844%\n"
     ]
    }
   ],
   "source": [
    "hydrosphere_mass = 1.386 * 10**21\n",
    "atmosphere_mass = 5.14 * 10**18\n",
    "biosphere_mass = 2 * 10**15\n",
    "lithosphere_mass = 2.7 * 10**22\n",
    "\n",
    "# fraction\n",
    "earth_mass = hydrosphere_mass + atmosphere_mass + biosphere_mass + lithosphere_mass\n",
    "fraction_hydrosphere = hydrosphere_mass / earth_mass\n",
    "fraction_atmosphere = atmosphere_mass / earth_mass\n",
    "fraction_biosphere = biosphere_mass / earth_mass\n",
    "fraction_lithosphere = lithosphere_mass / earth_mass\n",
    "\n",
    "# Print results\n",
    "print(\"Mass of Hydrosphere: {:.2e} kilograms\".format(hydrosphere_mass))\n",
    "print(\"Mass of Atmosphere: {:.2e} kilograms\".format(atmosphere_mass))\n",
    "print(\"Mass of Biosphere: {:.2e} kilograms\".format(biosphere_mass))\n",
    "print(\"Mass of Lithosphere: {:.2e} kilograms\".format(lithosphere_mass))\n",
    "print(\"\\nHydrosphere fraction: {:.7%}\".format(fraction_hydrosphere))\n",
    "print(\"Atmosphere fraction: {:.7%}\".format(fraction_atmosphere))\n",
    "print(\"Biosphere fraction: {:.7%}\".format(fraction_biosphere))\n",
    "print(\"Lithosphere fraction: {:.7%}\".format(fraction_lithosphere))\n"
   ]
  },
  {
   "cell_type": "markdown",
   "id": "treated-spencer",
   "metadata": {},
   "source": [
    "### What is the (fraction of) volume of each sphere, in which the main interactions in contemporaneous Earth system dynamics takes place?"
   ]
  },
  {
   "cell_type": "code",
   "execution_count": 2,
   "id": "ordered-sender",
   "metadata": {},
   "outputs": [
    {
     "name": "stdout",
     "output_type": "stream",
     "text": [
      "Volume of Hydrosphere: 1.33e+09 cubic kilometers\n",
      "Volume of Atmosphere (100 km boundary): 5.20e+10 cubic kilometers\n",
      "Volume of Lithosphere (upper 50 km): 2.53e+10 cubic kilometers\n",
      "Volume of Biosphere is situated inside the other spheres\n",
      "\n",
      "Fraction of Earth's total volume occupied by Hydrosphere: 1.69%\n",
      "Fraction of Earth's total volume occupied by Atmosphere: 66.13%\n",
      "Fraction of Earth's total volume occupied by Lithosphere (upper 50 km): 32.18%\n"
     ]
    }
   ],
   "source": [
    "# Volumes\n",
    "hydrosphere_volume = 1.332 * 10**9\n",
    "atmosphere_volume = 52 * 10**9\n",
    "lithosphere_volume = 25.3 * 10**9\n",
    "\n",
    "# fraction\n",
    "earth_volume = hydrosphere_volume + atmosphere_volume + lithosphere_volume\n",
    "fraction_hydrosphere = hydrosphere_volume / earth_volume\n",
    "fraction_atmosphere = atmosphere_volume / earth_volume\n",
    "fraction_lithosphere = lithosphere_volume / earth_volume\n",
    "\n",
    "print(\"Volume of Hydrosphere: {:.2e} cubic kilometers\".format(hydrosphere_volume))\n",
    "print(\"Volume of Atmosphere (100 km boundary): {:.2e} cubic kilometers\".format(atmosphere_volume))\n",
    "print(\"Volume of Lithosphere (upper 50 km): {:.2e} cubic kilometers\".format(lithosphere_volume))\n",
    "print(\"Volume of Biosphere is situated inside the other spheres\")\n",
    "print(\"\\nFraction of Earth's total volume occupied by Hydrosphere: {:.2%}\".format(fraction_hydrosphere))\n",
    "print(\"Fraction of Earth's total volume occupied by Atmosphere: {:.2%}\".format(fraction_atmosphere))\n",
    "print(\"Fraction of Earth's total volume occupied by Lithosphere (upper 50 km): {:.2%}\".format(fraction_lithosphere))\n"
   ]
  }
 ],
 "metadata": {
  "kernelspec": {
   "display_name": "ESC Final",
   "language": "python",
   "name": "fin"
  },
  "language_info": {
   "codemirror_mode": {
    "name": "ipython",
    "version": 3
   },
   "file_extension": ".py",
   "mimetype": "text/x-python",
   "name": "python",
   "nbconvert_exporter": "python",
   "pygments_lexer": "ipython3",
   "version": "3.9.16"
  },
  "toc-autonumbering": false,
  "toc-showcode": false,
  "toc-showmarkdowntxt": false
 },
 "nbformat": 4,
 "nbformat_minor": 5
}