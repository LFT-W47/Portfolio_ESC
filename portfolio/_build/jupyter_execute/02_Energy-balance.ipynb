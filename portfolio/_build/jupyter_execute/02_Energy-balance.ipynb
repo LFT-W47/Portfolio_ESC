{
 "cells": [
  {
   "cell_type": "markdown",
   "id": "logical-smoke",
   "metadata": {},
   "source": [
    "# The Energy balance of the earth"
   ]
  },
  {
   "cell_type": "markdown",
   "id": "rental-composite",
   "metadata": {},
   "source": [
    "## The naked planet model\n",
    "\n",
    "We want to calculate the radiation model of a simplified planet without greenhouse gases, the so called naked planet model$^\\ast$. The temperature of this planet is determined by balancing energy fluxes in and out of this planet. The energy that comes to the planet is provided by the sun. The planet itself radiates energy to an extent that depends on its temperature. The planet is characterised by a layer of water what serves as a buffer and stores energy until an equilibrium is reached and incoming and outgoing fluxes are balanced.\n",
    "\n",
    "The incoming solarheat is determined by $\\frac{L (1- \\alpha)}{4}$, with the solar constant $L$ (which is not a constant!) and the albedo $\\alpha$ (between 0 and 1) of the planet. The factor 4 can be derived from the relation between the shadow of the planet with an area of $\\pi r^2$ to the total surface of $4 \\pi r^2$.\n",
    "\n",
    "The outgoing heat depends on the temperature of the planet according to the Stefan-Boltzmann law, which is $\\epsilon \\cdot \\sigma \\cdot T^4$, with the emissivity of the planet (between 0 and 1, with 1 if the object is a black body that absorbs all electromagnetic radiation), the Stefan-Boltzmann constant $\\sigma$ = 5.67$\\cdot$ 10$^{-8}\\frac{W}{m^2 K^4}$, and the current temperature of the planet $T$. \n",
    "\n",
    "Depending on the initial temperature of the planet, the incoming and out-going energy fluxes are not balanced and result in a warming (or cooling) of the planet. If we start with an initial temperature of 0K, the planet will absorb more energy than it emits, thus the total internal energy of the planet rises. The energy is stored by a layer of water with a predefined depth. \n",
    "\n",
    "$^\\ast$An example of the naked planet model is also given in the [Coursera Course on Global warming](https://www.coursera.org/lecture/global-warming/naked-planet-climate-model-xWZsI), if you would like to use additional materials."
   ]
  },
  {
   "cell_type": "markdown",
   "id": "collect-geneva",
   "metadata": {},
   "source": [
    "**TODO**: Please import the libraries `numpy` and `matplotlib`."
   ]
  },
  {
   "cell_type": "code",
   "execution_count": 1,
   "id": "union-antenna",
   "metadata": {},
   "outputs": [],
   "source": [
    "import numpy as np\n",
    "import matplotlib.pyplot as plt"
   ]
  },
  {
   "cell_type": "markdown",
   "id": "precise-accuracy",
   "metadata": {},
   "source": [
    "**TODO**: Define all the important variables: The solar constant, albedo of the planet, depth of the water layer, specific heat capacity of water, heat capacity of the water column (we canceled out the area from both, incoming and out-going energy fluxes, and thereby only consider a column of 1m$^2$ (keep in mind the specific heat capacity of water is in \\[J/g K\\]), epsilon and sigma. Add all units (and any additional infos you need) with a command `#`"
   ]
  },
  {
   "cell_type": "code",
   "execution_count": 2,
   "id": "swiss-language",
   "metadata": {
    "tags": []
   },
   "outputs": [],
   "source": [
    "sc = 1361 # kw/m^2\n",
    "albedo = 0.33 # estimation\n",
    "wat_depth = 3940 # average in m\n",
    "wat_dens = 997 # kg^3/m\n",
    "wat_cap = 4.184 # J/g * K\n",
    "cap = wat_depth * wat_cap * 10**3 * wat_dens\n",
    "eps = 1.\n",
    "sig = 5.67 * (10**-8)"
   ]
  },
  {
   "cell_type": "code",
   "execution_count": 3,
   "id": "ceramic-desire",
   "metadata": {
    "jupyter": {
     "source_hidden": true
    },
    "tags": []
   },
   "outputs": [],
   "source": [
    "l = 1366   # W/m2\n",
    "albedo = 0.3 # []\n",
    "h = 4000   # depth of the ocean in meters\n",
    "rho = 1000 # density of water [kg/m3]\n",
    "capacity_water = 4.186 # heat capacity of water in [J/g K]\n",
    "capacity = h * capacity_water * 10**3 * rho # J/m2 K # specific heat capacity of water times density of water\n",
    "epsilon = 1. # []\n",
    "sigma = 5.67E-8  # W/(m2 K4)"
   ]
  },
  {
   "cell_type": "markdown",
   "id": "average-defensive",
   "metadata": {
    "tags": []
   },
   "source": [
    "We want to track the temperature changes over time, starting with an inital temperature, e.g. t$_0$ = 0K. After sufficient timesteps it will approach an equilibrium.\n",
    "\n",
    "**TODO**: Create an array of *time* with np.arange(start, end, step), starting with $t_0$ = 0, end with 1500 and timesteps of 20 years. You can choose also other timeperiods and -steps, but keep in mind that some combination may not work because they are numerically unstable"
   ]
  },
  {
   "cell_type": "code",
   "execution_count": 4,
   "id": "destroyed-handy",
   "metadata": {},
   "outputs": [],
   "source": [
    "time = np.arange(0, 1500, 20)"
   ]
  },
  {
   "cell_type": "code",
   "execution_count": 5,
   "id": "civilian-dining",
   "metadata": {
    "jupyter": {
     "source_hidden": true
    },
    "tags": []
   },
   "outputs": [],
   "source": [
    "step = 20 # in years\n",
    "time = np.arange(0, 1500, step)"
   ]
  },
  {
   "cell_type": "markdown",
   "id": "sorted-firmware",
   "metadata": {
    "tags": []
   },
   "source": [
    "The heat capacity of the planet is set by a layer of water that absorbs the incoming energy and thus changes its temperature. It depends on the specific heat capacity of water (4.186 \\[ J g$^{-1}$K$^{-1}$ \\], the depth of the water layer in \\[m\\] and the density of water.\n",
    "\n",
    "As energy is added to the planet, the heat content is changing as a function of time by the incoming and out-going fluxes:\n",
    "\n",
    "$\\frac{d(heat\\_content)}{dt}$ = $\\frac{L (1- \\alpha)}{4}$ - $\\sigma \\cdot \\epsilon \\cdot T^4$.\n",
    "\n",
    "If the first term is larger than the second, the heat content will increase. If the second term is larger, the heat content will decrease.\n",
    "\n",
    "The heat content of a matter is related to the temperature by the heat capacity:\n",
    "\n",
    "T\\(K\\) = $\\frac{\\textrm{heat_content}[J/m^2]}{\\textrm{heat_capacity} [J/m^2  K]}$.\n",
    "\n",
    "Heat capacity is the amount of heat required to raise the temperature of an object by 1K.\n",
    "\n",
    "We can solve this numerically:\n",
    "\n",
    "heat_content(t+1) = heat_content(t) + $\\frac{d(heat\\_content)}{dt}$ $\\cdot$ timestep \n",
    "\n",
    "The incoming radiation will stay constant throughout the simulation. The outgoing radiation is governed by the temperature that is updated in each timestep.\n",
    "\n",
    "**TODO**: We will start with a heat content and temperature of the planet of 0 J/m$^2$K and 0K respectively. The variable heat_content will be overwritten in each step of a for-loop, while we want to keep track of the temperature by generating a list and appending the lastest termperature in each time step. Add the equation of the incoming and out-going energy fluxes to the for-loop. Keep in mind, that each timestep is in years and we need a factor to transfere years to seconds.\n",
    "\n",
    "Hint: list\\[-1\\] calls the last item of a list"
   ]
  },
  {
   "cell_type": "code",
   "execution_count": 6,
   "id": "improving-intranet",
   "metadata": {},
   "outputs": [],
   "source": [
    "heat_content = 0.\n",
    "temp = [0]\n",
    "\n",
    "heat_in =  sc*(1-albedo)/4 # add here the equation of incoming energy flux\n",
    "heat_out = 0\n",
    "heat_content =  cap * temp[0]\n",
    "\n",
    "for i in time:   \n",
    "    heat_out = eps * sig * pow(temp[-1], 4)# add here the equation of the out-going energy fluxes\n",
    "    heat_content_per_dt = heat_in - heat_out\n",
    "    heat_content = heat_content + (heat_content_per_dt \\\n",
    "                    * 20 * 3.14E7)\n",
    "    #print(i, temp[-1])\n",
    "    temp.append(heat_content/ cap) "
   ]
  },
  {
   "cell_type": "code",
   "execution_count": 7,
   "id": "interested-magnitude",
   "metadata": {
    "jupyter": {
     "source_hidden": true
    },
    "tags": []
   },
   "outputs": [],
   "source": [
    "heat_content = 0.\n",
    "temp = [0]\n",
    "\n",
    "heat_in = l*(1-albedo)/4\n",
    "heat_out = 0\n",
    "heat_content =  capacity * temp[0]\n",
    "\n",
    "for i in time:   \n",
    "    heat_out = epsilon * sigma * pow(temp[-1], 4)\n",
    "    heat_content_per_dt = heat_in - heat_out\n",
    "    heat_content = heat_content + (heat_content_per_dt \\\n",
    "                    * step * 3.14E7)\n",
    "    #print(i, temp[-1])\n",
    "    temp.append(heat_content/ capacity) "
   ]
  },
  {
   "cell_type": "markdown",
   "id": "constitutional-courage",
   "metadata": {},
   "source": [
    "**TODO**: Plot the calculated temperature curve over time, e.g. with matplotlib."
   ]
  },
  {
   "cell_type": "code",
   "execution_count": 8,
   "id": "curious-belize",
   "metadata": {},
   "outputs": [
    {
     "data": {
      "text/plain": [
       "[<matplotlib.lines.Line2D at 0x14bd1e53c430>]"
      ]
     },
     "execution_count": 8,
     "metadata": {},
     "output_type": "execute_result"
    },
    {
     "data": {
      "image/png": "[encoded data removed]",
      "text/plain": [
       "<Figure size 640x480 with 1 Axes>"
      ]
     },
     "metadata": {
      "filenames": {
       "image/png": "/home/sc.uni-leipzig.de/le837wmue/earth_sys_com/portfolio/_build/jupyter_execute/02_Energy-balance_14_1.png"
      }
     },
     "output_type": "display_data"
    }
   ],
   "source": [
    "plt.xlabel('Time')\n",
    "plt.ylabel('Temp')\n",
    "plt.title('Energy Balance')\n",
    "plt.plot(time, temp[1:])"
   ]
  },
  {
   "cell_type": "code",
   "execution_count": 9,
   "id": "union-anniversary",
   "metadata": {
    "jupyter": {
     "source_hidden": true
    },
    "tags": []
   },
   "outputs": [],
   "source": [
    "#plt.xlabel('Time [y]')\n",
    "#plt.ylabel('Temerature [K]')\n",
    "\n",
    "#plt.title('The naked planet model')\n",
    "#plt.plot(time, temp[1:])"
   ]
  },
  {
   "cell_type": "markdown",
   "id": "stopped-penetration",
   "metadata": {},
   "source": [
    "**TODO** : Imagine the albedo decreases by 0.03. How does this changes the temperature? Add the new temperature curve to your plot."
   ]
  },
  {
   "cell_type": "code",
   "execution_count": 10,
   "id": "thirty-skating",
   "metadata": {},
   "outputs": [],
   "source": [
    "albedo = 0.36\n",
    "\n",
    "heat_content = 0.\n",
    "temp = [0]\n",
    "\n",
    "heat_in =  sc*(1-albedo)/4 # add here the equation of incoming energy flux\n",
    "heat_out = 0\n",
    "heat_content =  cap * temp[0]\n",
    "\n",
    "for i in time:   \n",
    "    heat_out = eps * sig * pow(temp[-1], 4)# add here the equation of the out-going energy fluxes\n",
    "    heat_content_per_dt = heat_in - heat_out\n",
    "    heat_content = heat_content + (heat_content_per_dt \\\n",
    "                    * 20 * 3.14E7)\n",
    "    #print(i, temp[-1])\n",
    "    temp.append(heat_content/ cap) "
   ]
  },
  {
   "cell_type": "code",
   "execution_count": 11,
   "id": "mental-beatles",
   "metadata": {},
   "outputs": [
    {
     "data": {
      "text/plain": [
       "[<matplotlib.lines.Line2D at 0x14bd1c445af0>]"
      ]
     },
     "execution_count": 11,
     "metadata": {},
     "output_type": "execute_result"
    },
    {
     "data": {
      "image/png": "[encoded data removed]",
      "text/plain": [
       "<Figure size 640x480 with 1 Axes>"
      ]
     },
     "metadata": {
      "filenames": {
       "image/png": "/home/sc.uni-leipzig.de/le837wmue/earth_sys_com/portfolio/_build/jupyter_execute/02_Energy-balance_18_1.png"
      }
     },
     "output_type": "display_data"
    }
   ],
   "source": [
    "plt.xlabel('Time')\n",
    "plt.ylabel('Temp')\n",
    "plt.title('Energy Balance')\n",
    "plt.plot(time, temp[1:])"
   ]
  },
  {
   "cell_type": "markdown",
   "id": "valid-oklahoma",
   "metadata": {},
   "source": [
    "**Question**: What would be necessary to add the effect of greenhouse gases in the atmosphere to this model? How could it be implemented? How would this affect the temperature?"
   ]
  },
  {
   "cell_type": "code",
   "execution_count": null,
   "id": "flexible-daily",
   "metadata": {},
   "outputs": [],
   "source": []
  }
 ],
 "metadata": {
  "kernelspec": {
   "display_name": "ESC Final",
   "language": "python",
   "name": "fin"
  },
  "language_info": {
   "codemirror_mode": {
    "name": "ipython",
    "version": 3
   },
   "file_extension": ".py",
   "mimetype": "text/x-python",
   "name": "python",
   "nbconvert_exporter": "python",
   "pygments_lexer": "ipython3",
   "version": "3.9.16"
  }
 },
 "nbformat": 4,
 "nbformat_minor": 5
}