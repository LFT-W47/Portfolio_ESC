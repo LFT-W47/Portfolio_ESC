{
 "cells": [
  {
   "cell_type": "markdown",
   "id": "violent-sending",
   "metadata": {},
   "source": [
    "# What mechanisms explain the existence of ocean gyres?\n",
    "\n",
    "Page 1\n",
    "![greenhouse](pictures/q4_ocean-gyres-001.jpg)\n",
    "\n",
    "Page 2\n",
    "![greenhouse](pictures/q4_ocean-gyres-002.jpg)\n",
    "\n",
    "Page 3\n",
    "![greenhouse](pictures/q4_ocean-gyres-003.jpg)\n",
    "\n",
    "Page 4\n",
    "![greenhouse](pictures/q4_ocean-gyres-004.jpg)\n",
    "\n",
    "Page 5\n",
    "![greenhouse](pictures/q4_ocean-gyres-005.jpg)\n",
    "\n",
    "Page 6\n",
    "![greenhouse](pictures/q4_ocean-gyres-006.jpg)"
   ]
  }
 ],
 "metadata": {
  "kernelspec": {
   "display_name": "ESC Final",
   "language": "python",
   "name": "fin"
  },
  "language_info": {
   "codemirror_mode": {
    "name": "ipython",
    "version": 3
   },
   "file_extension": ".py",
   "mimetype": "text/x-python",
   "name": "python",
   "nbconvert_exporter": "python",
   "pygments_lexer": "ipython3",
   "version": "3.9.16"
  }
 },
 "nbformat": 4,
 "nbformat_minor": 5
}