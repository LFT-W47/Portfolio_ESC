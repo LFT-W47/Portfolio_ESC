{
 "cells": [
  {
   "cell_type": "markdown",
   "id": "dangerous-bacteria",
   "metadata": {},
   "source": [
    "# NAO & AO\n",
    "\n",
    "## Please be ready to explain two of the following:\n",
    "\n",
    "● Madden–Julian oscillation (MJO)\n",
    "\n",
    "● Quasi-biennial oscillation (QBO)\n",
    "\n",
    "● North Atlantic oscillation (NAO)\n",
    "\n",
    "● Arctic oscillation (AO)\n",
    "\n",
    "● Indian Ocean Dipole (IOD)\n",
    "\n",
    "\n",
    "### *I made Presentatios for NAO and AO*\n",
    "\n",
    "\n",
    "#### **NAO**\n",
    "Page 1\n",
    "![greenhouse](pictures/NAO-001.jpg)\n",
    "\n",
    "Page 2\n",
    "![greenhouse](pictures/NAO-002.jpg)\n",
    "\n",
    "Page 3\n",
    "![greenhouse](pictures/NAO-003.jpg)\n",
    "\n",
    "Page 4\n",
    "![greenhouse](pictures/NAO-004.jpg)\n",
    "\n",
    "Page 5\n",
    "![greenhouse](pictures/NAO-005.jpg)\n",
    "\n",
    "\n",
    "#### **AO**\n",
    "\n",
    "Page 1\n",
    "![greenhouse](pictures/AO-001.jpg)\n",
    "\n",
    "Page 2\n",
    "![greenhouse](pictures/AO-002.jpg)\n",
    "\n",
    "Page 3\n",
    "![greenhouse](pictures/AO-003.jpg)\n",
    "\n",
    "Page 4\n",
    "![greenhouse](pictures/AO-004.jpg)\n",
    "\n",
    "Page 5\n",
    "![greenhouse](pictures/AO-005.jpg)"
   ]
  }
 ],
 "metadata": {
  "kernelspec": {
   "display_name": "ESC Final",
   "language": "python",
   "name": "fin"
  },
  "language_info": {
   "codemirror_mode": {
    "name": "ipython",
    "version": 3
   },
   "file_extension": ".py",
   "mimetype": "text/x-python",
   "name": "python",
   "nbconvert_exporter": "python",
   "pygments_lexer": "ipython3",
   "version": "3.9.16"
  }
 },
 "nbformat": 4,
 "nbformat_minor": 5
}
